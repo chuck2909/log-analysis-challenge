{
 "cells": [
  {
   "cell_type": "markdown",
   "id": "19eaaa40",
   "metadata": {},
   "source": [
    "# Unit 4: Challenge\n",
    "\n",
    "## Problem 1 \n",
    "\n",
    "1. Open the `exam.log` file.\n",
    "\n",
    "\n",
    "2. Write a function ```ip_result``` that:\n",
    "* Searches for lines with IP\n",
    "* Counts the number of each IP\n",
    "* Puts the results in a dictionary\n",
    "* Sorts the dictionary \n",
    "* Puts the results into a file\n",
    "\n",
    "3. Write a function ```invalid_user_count``` that:\n",
    "\n",
    "* Searches for invalid user logins \n",
    "* Counts the invalid  logins for each user \n",
    "* Puts the results in a dictionary\n",
    "* Sorts the dictionary\n",
    "* Puts the result into a file \n",
    "\n",
    "4. Write a function `failed_logins` that:\n",
    "\n",
    "* Searches for wrong passwords\n",
    "* Counts the failed logins\n",
    "* Puts the results in a dictionary\n",
    "* Sorts the dictionary\n",
    "* Puts the result in a file\n",
    "\n",
    "5. Call the functions"
   ]
  },
  {
   "cell_type": "markdown",
   "id": "ca3081a2-debb-4b52-99b6-95a8ccc50f7e",
   "metadata": {},
   "source": [
    "# Write a function ip_result that: Searches for lines with IP\n",
    "### Counts the number of each IP\n",
    "### Puts the results in a dictionary\n",
    "### Sorts the dictionary\n",
    "### Puts the results into a file"
   ]
  },
  {
   "cell_type": "code",
   "execution_count": 4,
   "id": "e194adc0-496b-4d5f-9e34-c0baddf3f6a0",
   "metadata": {},
   "outputs": [],
   "source": [
    "import re\n",
    "\n",
    "def ip_result():\n",
    "    \"\"\"Extracts IPs from log file, counts occurrences, sorts by frequency, and writes to ip_results.txt.\"\"\"\n",
    "    \n",
    "    ip_count = {}\n",
    "\n",
    "    # Open exam.log for reading\n",
    "    with open(\"exam.log\", \"r\") as file:\n",
    "        for line in file:\n",
    "            #Extract valid IP addresses using regex\n",
    "            match = re.search(r\"\\b\\d{1,3}\\.\\d{1,3}\\.\\d{1,3}\\.\\d{1,3}\\b\", line)\n",
    "            if match:\n",
    "                ip = match.group(0)  # Get the IP address\n",
    "                ip_count[ip] = ip_count.get(ip, 0) + 1  # Count occurrences\n",
    "\n",
    "    #Sort IPs by frequency (highest to lowest)\n",
    "    sorted_ip_count = dict(sorted(ip_count.items(), key=lambda x: x[1], reverse=True))\n",
    "\n",
    "    # Write results to ip_results.txt\n",
    "    with open(\"ip_results.txt\", \"w\") as outfile:\n",
    "        outfile.write(\"IP Address Count:\\n\\n\")\n",
    "        for ip, count in sorted_ip_count.items():\n",
    "            outfile.write(f\"{ip}: {count}\\n\")\n",
    "\n",
    "# Call the function to execute it\n",
    "ip_result()"
   ]
  },
  {
   "cell_type": "markdown",
   "id": "d21ec20d-cd6b-4ec8-9d21-6abf47c2632f",
   "metadata": {},
   "source": [
    "# Write a function invalid_user_count that:\n",
    "### Searches for invalid user logins\n",
    "### Counts the invalid logins for each user\n",
    "### Puts the results in a dictionary\n",
    "### Sorts the dictionary\n",
    "### Puts the result into a file"
   ]
  },
  {
   "cell_type": "code",
   "execution_count": 5,
   "id": "6ab5c8ad-03f7-493c-8935-727b0a4c19df",
   "metadata": {},
   "outputs": [],
   "source": [
    "import re\n",
    "\n",
    "def invalid_user_count():\n",
    "    \"\"\"Extracts invalid user logins, counts occurrences, sorts by frequency, and writes to invalid_users.txt.\"\"\"\n",
    "    \n",
    "    user_count = {}\n",
    "\n",
    "    # Open exam.log for reading\n",
    "    with open(\"exam.log\", \"r\") as file:\n",
    "        for line in file:\n",
    "            # Extract \"Invalid user <username>\" log entries\n",
    "            match = re.search(r\"Invalid user (\\S+)\", line)  # \\S+ captures usernames with any characters\n",
    "            if match:\n",
    "                user = match.group(1)  # Get the username\n",
    "                user_count[user] = user_count.get(user, 0) + 1  # Count occurrences\n",
    "\n",
    "    # Sort users by frequency (highest to lowest)\n",
    "    sorted_users = dict(sorted(user_count.items(), key=lambda x: x[1], reverse=True))\n",
    "\n",
    "    # Write results to invalid_users.txt\n",
    "    with open(\"invalid_users.txt\", \"w\") as outfile:\n",
    "        outfile.write(\"Invalid Users by # of Attempts:\\n\\n\")\n",
    "        for user, count in sorted_users.items():\n",
    "            outfile.write(f\"User: {user} Count: {count}\\n\")\n",
    "\n",
    "# Call the function to execute it\n",
    "invalid_user_count()"
   ]
  },
  {
   "cell_type": "markdown",
   "id": "b20a39c3-3584-4d89-bb4d-dd6976709e20",
   "metadata": {},
   "source": [
    "# Write a function failed_logins that:\n",
    "### Searches for wrong passwords\n",
    "### Counts the failed logins\n",
    "### Puts the results in a dictionary\n",
    "### Sorts the dictionary\n",
    "### Puts the result in a file\n"
   ]
  },
  {
   "cell_type": "code",
   "execution_count": 6,
   "id": "62144b5c-9893-4b82-b004-55eea36ab224",
   "metadata": {},
   "outputs": [],
   "source": [
    "import re\n",
    "\n",
    "def failed_logins():\n",
    "    \"\"\"Extracts failed login attempts, counts occurrences, sorts by frequency, and writes to failed_logins.txt.\"\"\"\n",
    "    \n",
    "    failed_count = {}\n",
    "\n",
    "    # Open exam.log for reading\n",
    "    with open(\"exam.log\", \"r\") as file:\n",
    "        for line in file:\n",
    "            # Extract failed password attempts with usernames and IPs\n",
    "            match = re.search(r\"Failed password for (\\S+) from (\\d{1,3}\\.\\d{1,3}\\.\\d{1,3}\\.\\d{1,3})\", line)\n",
    "            if match:\n",
    "                user = match.group(1)  # Get the username (or \"invalid user\")\n",
    "                failed_count[user] = failed_count.get(user, 0) + 1  # Count occurrences\n",
    "\n",
    "    # Sort failed logins by frequency (highest to lowest)\n",
    "    sorted_failed = dict(sorted(failed_count.items(), key=lambda x: x[1], reverse=True))\n",
    "\n",
    "    # Write results to failed_logins.txt\n",
    "    with open(\"failed_logins.txt\", \"w\") as outfile:\n",
    "        outfile.write(\"Failed Login Attempts by User:\\n\\n\")\n",
    "        for user, count in sorted_failed.items():\n",
    "            outfile.write(f\"User: {user} Count: {count}\\n\")\n",
    "\n",
    "# Call the function to execute it\n",
    "failed_logins()"
   ]
  },
  {
   "cell_type": "markdown",
   "id": "4977c4c8-a8a9-415b-b201-d4a786d0bbec",
   "metadata": {},
   "source": [
    "### Call the functions"
   ]
  },
  {
   "cell_type": "code",
   "execution_count": 7,
   "id": "c460e9fb-96ce-4116-be96-d429cf2ce808",
   "metadata": {},
   "outputs": [
    {
     "name": "stdout",
     "output_type": "stream",
     "text": [
      "✅ All functions executed successfully!\n",
      "Check the following files for results:\n",
      "- ip_results.txt\n",
      "- invalid_users.txt\n",
      "- failed_logins.txt\n"
     ]
    }
   ],
   "source": [
    "# Call all three functions in order\n",
    "ip_result()\n",
    "invalid_user_count()\n",
    "failed_logins()\n",
    "\n",
    "print(\"All functions executed successfully!\")\n",
    "print(\"Check the following files for results:\")\n",
    "print(\"- ip_results.txt\")\n",
    "print(\"- invalid_users.txt\")\n",
    "print(\"- failed_logins.txt\")"
   ]
  },
  {
   "cell_type": "code",
   "execution_count": null,
   "id": "6f509a7d",
   "metadata": {},
   "outputs": [],
   "source": []
  },
  {
   "cell_type": "markdown",
   "id": "04b6c961",
   "metadata": {},
   "source": [
    "## Problem 2 \n",
    "Analyze the following code that reads the `apache_logs.txt` file. Determine what it does. Write your response as code comments."
   ]
  },
  {
   "cell_type": "code",
   "execution_count": 11,
   "id": "eb345d0e",
   "metadata": {},
   "outputs": [
    {
     "name": "stdin",
     "output_type": "stream",
     "text": [
      "please enter a file name:  exam.log\n"
     ]
    }
   ],
   "source": [
    "import sys\n",
    "import os\n",
    "\n",
    "def readfile(f):\n",
    "    openfile = open(f,\"r\")# Open the given log file\n",
    "    \n",
    "    # Create and open output files for writing\n",
    "    unique_outfile = open(\"uniqueIP.txt\",\"w\") # Stores unique IPs\n",
    "    all_outfile = open(\"allIP.txt\",\"w\") # Stores all IPs (including duplicates)\n",
    "    ipAndUrl_outfile = open(\"ipAndUrl.txt\",\"w\")# Stores IPs and their requested URLs\n",
    "\n",
    "    lines = []# List to store log lines\n",
    "    ipAndUrl = {} # Dictionary to store IPs and the URLs they requested\n",
    "    ip_list = set() # Set to store unique IPs\n",
    "# Read each line from the log file and strip newlines\n",
    "    for line in openfile:\n",
    "        lines.append(line.strip('\\n'))\n",
    "# Process each line in the log\n",
    "    for line in lines:\n",
    "        ip = line.split(\" \")[0]\n",
    "# Extract the requested URL (7th word in the line, index 6)\n",
    "        if ip in ipAndUrl:\n",
    "            ipAndUrl[ip].append(line.split(\" \")[6])\n",
    "        else:\n",
    "            ipAndUrl[ip] = [line.split(\" \")[6]]\n",
    "# Write the IP to `allIP.txt`        \n",
    "        all_outfile.write(ip)\n",
    "        all_outfile.write(\"\\n\")  \n",
    "# Add IP to the set (ensuring uniqueness)\n",
    "        ip_list.add(ip)\n",
    "# Write unique IPs to `uniqueIP.txt`\n",
    "    for ip in ip_list:\n",
    "        unique_outfile.write(ip)\n",
    "        unique_outfile.write(\"\\n\")\n",
    "# Write IPs and their requested URLs to `ipAndUrl.txt`\n",
    "    for key, value in ipAndUrl.items(): \n",
    "        ipAndUrl_outfile.write('%s  %s\\n' % (key, value))\n",
    "# Close all files\n",
    "    unique_outfile.close()\n",
    "    ipAndUrl_outfile.close()\n",
    "    all_outfile.close()\n",
    "    openfile.close()\n",
    "\n",
    "def Main():\n",
    "    file=input(\"please enter a file name: \")# Asks the user to enter a log file name\n",
    "\n",
    "    result = readfile(file)# Calls the function with the provided filename\n",
    "# Runs the script if executed directly\n",
    "if __name__ == '__main__':\n",
    "      \n",
    "    Main()"
   ]
  },
  {
   "cell_type": "markdown",
   "id": "bbb8f0eb-18ff-4950-9846-5961673c2673",
   "metadata": {},
   "source": [
    "# What Does This Code Do?\n",
    "1.Opens a log file (apache_logs.txt) provided by the user.\n",
    "\n",
    "2.Extracts all IP addresses from the first word of each line (assumes the first word is an IP, which may be incorrect).\n",
    "\n",
    "3.Extracts the requested URL from the 7th word in each line (assumes logs contain web requests).\n",
    "\n",
    "4.Writes the extracted data into three files:\n",
    "•\tallIP.txt → Contains all extracted IPs (including duplicates).\n",
    "•\tuniqueIP.txt → Contains only unique IPs.\n",
    "•\tipAndUrl.txt → Contains each IP and the URLs it requested.\n",
    "\n",
    "5.The script asks the user to enter a log file name.\n",
    "\n",
    "6.After running, it generates three text files containing the extracted data."
   ]
  },
  {
   "cell_type": "markdown",
   "id": "47f3be28-5a6f-4f46-abb1-731d73917de5",
   "metadata": {},
   "source": [
    "# Why Your Output is Wrong\n",
    "•Your log file is not an Apache log. Instead, it’s an SSH log (exam.log), which does NOT follow the format expected by the script.\n",
    "\n",
    "•The script assumes the first word is an IP, but in SSH logs, the first word is a timestamp (Mar, Feb, etc.), not an IP.\n",
    "    \n",
    "•This is why uniqueIP.txt contains “Mar”` instead of real IPs.\n",
    "\n",
    "\n",
    "The given script reads a log file and extracts IP addresses and requested URLs. \n",
    "It assumes that the first word in each log entry is an IP address and that the 7th word is a URL. \n",
    "It writes the extracted data into three files: \n",
    "   - allIP.txt (all IPs including duplicates)\n",
    "   - uniqueIP.txt (only unique IPs)\n",
    "   - ipAndUrl.txt (IP and their requested URLs)\n",
    "The script is designed for Apache web server logs but may produce incorrect results if used on other types of logs."
   ]
  }
 ],
 "metadata": {
  "kernelspec": {
   "display_name": "Python 3 [3.10]",
   "language": "python",
   "name": "python3"
  },
  "language_info": {
   "codemirror_mode": {
    "name": "ipython",
    "version": 3
   },
   "file_extension": ".py",
   "mimetype": "text/x-python",
   "name": "python",
   "nbconvert_exporter": "python",
   "pygments_lexer": "ipython3",
   "version": "3.10.2"
  }
 },
 "nbformat": 4,
 "nbformat_minor": 5
}
